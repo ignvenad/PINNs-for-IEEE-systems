{
 "cells": [
  {
   "cell_type": "code",
   "execution_count": null,
   "metadata": {
    "vscode": {
     "languageId": "plaintext"
    }
   },
   "outputs": [],
   "source": [
    "|delta_0|   10.1621   |delta_1|   52.3228   |delta_4|   1.7377|delta_7|   3.6146|delta_10|  1.5410|delta_12|  2.8902|"
   ]
  },
  {
   "cell_type": "code",
   "execution_count": null,
   "metadata": {
    "vscode": {
     "languageId": "plaintext"
    }
   },
   "outputs": [],
   "source": [
    "|10.1621|52.3228|1.7377|3.6146|1.5410|2.8902|"
   ]
  },
  {
   "cell_type": "code",
   "execution_count": null,
   "metadata": {
    "vscode": {
     "languageId": "plaintext"
    }
   },
   "outputs": [],
   "source": [
    "| Variable  | Value (%)  | Variable  | Value (%)  | Variable  | Value (%)  | Variable  | Value (%)  | Variable  | Value (%)  | Variable  | Value (%)  |\n",
    "|-----------|--------|-----------|--------|-----------|--------|-----------|--------|-----------|--------|-----------|--------|\n",
    "|$\\delta_{1}$ | 10.16     |$\\delta_{2}$ | 52.32     |$\\delta_{5}$ | 1.74      |$\\delta_{8}$ | 3.61      |$\\delta_{11}$ | 1.54      |$\\delta_{13}$ | 2.89      |\n",
    "|$\\omega_{1}$ | 2.20      |$\\omega_{2}$ | 45.60     |$\\omega_{5}$ | 1.68      |$\\omega_{8}$ | 2.55      |$\\omega_{11}$ | 0.08      |$\\omega_{13}$ | 2.30      |\n",
    "|$Id_{1}$   | 9.50      |$Iq_{1}$   | 29.38     |$Id_{2}$   | 51.29     |$Iq_{2}$   | 51.82     |$Id_{5}$   | 7.06      |$Iq_{5}$   | 1.74      |\n",
    "|$Id_{8}$   | 13.61     |$Iq_{8}$   | 3.62      |$Id_{11}$  | 9.98      |$Iq_{11}$  | 1.54      |$Id_{13}$  | 7.53      |$Iq_{13}$  | 2.89      |\n",
    "|$Vm_{1}$   | 1.36      |$Vm_{2}$   | 2.51      |$Vm_{3}$   | 5.19      |$Vm_{4}$   | 6.75      |$Vm_{5}$   | 7.05      |$Vm_{6}$   | 10.74     |\n",
    "|$Vm_{7}$   | 12.81     |$Vm_{8}$   | 13.57     |$Vm_{9}$   | 9.69      |$Vm_{10}$  | 9.33      |$Vm_{11}$  | 9.83      |$Vm_{12}$  | 7.66      |\n",
    "|$Vm_{13}$  | 7.62      |$Vm_{14}$  | 7.69      |$Vm_{15}$  | 8.27      |$Vm_{16}$  | 8.59      |$Vm_{17}$  | 8.99      |$Vm_{18}$  | 8.79      |\n",
    "|$Vm_{19}$  | 8.91      |$Vm_{20}$  | 8.97      |$Vm_{21}$  | 9.44      |$Vm_{22}$  | 9.48      |$Vm_{23}$  | 9.13      |$Vm_{24}$  | 10.12     |\n",
    "|$Vm_{25}$  | 11.87     |$Vm_{26}$  | 11.87     |$Vm_{27}$  | 12.79     |$Vm_{28}$  | 12.17     |$Vm_{29}$  | 12.79     |$Vm_{30}$  | 12.79     |"
   ]
  }
 ],
 "metadata": {
  "language_info": {
   "name": "python"
  }
 },
 "nbformat": 4,
 "nbformat_minor": 2
}
